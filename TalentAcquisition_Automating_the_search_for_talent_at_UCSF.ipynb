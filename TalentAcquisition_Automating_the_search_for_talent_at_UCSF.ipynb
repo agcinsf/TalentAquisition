{
 "cells": [
  {
   "cell_type": "markdown",
   "metadata": {},
   "source": [
    "<center><h1><FONT FACE=\"Vollkorn\"><Font Color=navy>Talent Aquisition</h1> \n",
    "<center><h2> <OL Type = ' '>\n",
    "Automating resume sorting and prioritization at UCSF\n",
    "<p>\n",
    "<center><img src=\"http://identity.ucsf.edu/sites/identity.ucsf.edu/files/styles/pharmacy_full/public/po_brand_a_masterlogo_1.png?itok=DbTSjNYS\" >"
   ]
  },
  {
   "cell_type": "markdown",
   "metadata": {},
   "source": [
    "<font face='volkorn' size=4>\n",
    "<b>Background:</b>  The Talent Aquisition team at UCSF consists of X professional recruiters who actively seek the top talent across the globe to help UCSF advance health worldwide. Currently, the TA Team has between 400 to 1000 active job postings, with each generating between 5 and 20 resumes from potential candidates.  Unfortunately, the team manually reviews each cover letter and resume to determine whether the candidate should be forwarded to the hiring manager. \n",
    "\n",
    "<p><b>Phase 1: March 2016</b><br>  Can we reduce the time spent by the TA team sorting and prioritizing resumes by algorithmically mimicing their resume review decisions?  \n",
    "\n",
    "<p><b>Phase 2</b><br> Can we predict whether a candidate will be successful as a UCSF employee?\n"
   ]
  },
  {
   "cell_type": "code",
   "execution_count": 1,
   "metadata": {
    "collapsed": true
   },
   "outputs": [],
   "source": [
    "import pandas as pd\n"
   ]
  },
  {
   "cell_type": "code",
   "execution_count": null,
   "metadata": {
    "collapsed": true
   },
   "outputs": [],
   "source": [
    "#Read in the data\n"
   ]
  },
  {
   "cell_type": "code",
   "execution_count": null,
   "metadata": {
    "collapsed": true
   },
   "outputs": [],
   "source": [
    "#Preprocess the data by removing names, phone numbers, addresses\n"
   ]
  },
  {
   "cell_type": "code",
   "execution_count": null,
   "metadata": {
    "collapsed": true
   },
   "outputs": [],
   "source": [
    "#Vectorize the data \n"
   ]
  },
  {
   "cell_type": "code",
   "execution_count": null,
   "metadata": {
    "collapsed": true
   },
   "outputs": [],
   "source": [
    "#Split the data into Training and Test sets\n"
   ]
  },
  {
   "cell_type": "code",
   "execution_count": null,
   "metadata": {
    "collapsed": true
   },
   "outputs": [],
   "source": [
    "#Feed the vectorized Training data into Random Forest Algorithm to train the model\n"
   ]
  },
  {
   "cell_type": "code",
   "execution_count": null,
   "metadata": {
    "collapsed": true
   },
   "outputs": [],
   "source": [
    "#Test the results against the Test Set to see the results\n"
   ]
  }
 ],
 "metadata": {
  "kernelspec": {
   "display_name": "Python 3",
   "language": "python",
   "name": "python3"
  },
  "language_info": {
   "codemirror_mode": {
    "name": "ipython",
    "version": 3
   },
   "file_extension": ".py",
   "mimetype": "text/x-python",
   "name": "python",
   "nbconvert_exporter": "python",
   "pygments_lexer": "ipython3",
   "version": "3.3.5"
  }
 },
 "nbformat": 4,
 "nbformat_minor": 0
}
